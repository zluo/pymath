{
 "cells": [
  {
   "cell_type": "code",
   "execution_count": null,
   "metadata": {},
   "outputs": [],
   "source": [
    "import sys\n",
    "sys.path.insert(0,'..')  # add parent directory to sys.path\n",
    "from util.util_code im"
   ]
  },
  {
   "cell_type": "code",
   "execution_count": null,
   "metadata": {},
   "outputs": [],
   "source": [
    "n = points.shape[0]\n",
    "indexs = np.arange(n)\n",
    "print(indexs)"
   ]
  },
  {
   "cell_type": "code",
   "execution_count": null,
   "metadata": {},
   "outputs": [],
   "source": [
    "from sympy.utilities.iterables import multiset_permutations\n",
    "dsum_dic = {}\n",
    "p_dic = {}\n",
    "d_dic ={}\n",
    "for p in multiset_permutations(indexs):\n",
    "    key = 'D'\n",
    "    d_sum = 0\n",
    "    for i in range(len(p)-1):\n",
    "        i1 = p[i]\n",
    "        i2 = p[i+1]\n",
    "        key = key + str(i1)\n",
    "        if i1< i2:\n",
    "            k = 'd' + str(i1) + str(i2)\n",
    "        else:\n",
    "            k = 'd' + str(i2) + str(i1)\n",
    "\n",
    "        if k in d_dic:\n",
    "            d = d_dic[k]\n",
    "        else:\n",
    "            d = np.sqrt((points[i1][0]- points[i2][0])**2 + (points[i1][1]- points[i2][1])**2)\n",
    "            d_dic[k] = d\n",
    "\n",
    "        d_sum += d\n",
    "\n",
    "    key = key + str(i2)\n",
    "    print(key, p, d_sum)\n",
    "\n",
    "    dsum_dic[key] = d_sum\n",
    "    p_dic[key] = p \n",
    "sorted_dic = sorted(dsum_dic.items(), key=lambda kv: kv[1])\n",
    "print(sorted_dic)\n",
    "shorted_key = sorted_dic[0][0]\n",
    "print(shorted_key)\n",
    "\n",
    "shortest_p = p_dic[shorted_key]\n",
    "\n",
    "shortest_points = []\n",
    "for i in shortest_p:\n",
    "    shortest_points.append(points[i])\n",
    "\n",
    "new_points = np.array(shortest_points)\n",
    "scatter(new_points)\n",
    "plot(new_points)"
   ]
  }
 ],
 "metadata": {
  "kernelspec": {
   "display_name": "Python 3",
   "language": "python",
   "name": "python3"
  },
  "language_info": {
   "codemirror_mode": {
    "name": "ipython",
    "version": 3
   },
   "file_extension": ".py",
   "mimetype": "text/x-python",
   "name": "python",
   "nbconvert_exporter": "python",
   "pygments_lexer": "ipython3",
   "version": "3.8.5"
  },
  "orig_nbformat": 4,
  "vscode": {
   "interpreter": {
    "hash": "46c336091dfe1e2d407c992226aa1abfdf7e3bf29abda0cf50c942fafbd234f7"
   }
  }
 },
 "nbformat": 4,
 "nbformat_minor": 2
}
