{
 "cells": [
  {
   "attachments": {},
   "cell_type": "markdown",
   "metadata": {},
   "source": [
    "## 1. 如何以数值指标来描述资料\n",
    "\n",
    "连续资料有以下四个特性：\n",
    "\n",
    "1. 集中趋势(central Tendency)(location)\n",
    "2. 分散或变异趋势(Dispersion or Variability)"
   ]
  }
 ],
 "metadata": {
  "language_info": {
   "name": "python"
  },
  "orig_nbformat": 4
 },
 "nbformat": 4,
 "nbformat_minor": 2
}
