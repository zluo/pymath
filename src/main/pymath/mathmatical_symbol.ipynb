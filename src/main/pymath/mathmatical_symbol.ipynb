{
 "cells": [
  {
   "attachments": {},
   "cell_type": "markdown",
   "metadata": {},
   "source": [
    "# Example of mathematical symbols"
   ]
  },
  {
   "attachments": {},
   "cell_type": "markdown",
   "metadata": {},
   "source": [
    "## Markdown for Jupyter notebook cheat sheet\n",
    "\n",
    "#### Headings\n",
    "\n",
    "- \\#    for title\n",
    "- \\##   for majar headings\n",
    "- \\###  for subheadings\n",
    "- \\#### for 4th level subheading\n",
    "\n",
    "#### Emphasis\n",
    "\n",
    "- Bold text: \\_\\_string__ or \\*\\*String** <br>\n",
    "\n",
    "    >    __bold string__ or **Bold String**\n",
    "\n",
    "- Italic text: \\_string_ or \\*String* <br>\n",
    "\n",
    "    >    _Italic string__ or *Italic String*\n",
    "\n",
    "#### Indenting\n",
    "\\>   Text will be indented\n",
    ">   Text will be indented\n",
    "\n",
    "\n",
    "#### code block with ```(backticks)\n",
    "- **python code block**\n",
    "```python\n",
    "    def checkout(path):\n",
    "        if checked:\n",
    "            return\n",
    "```\n",
    "- **json code block**\n",
    "```json\n",
    "    {\n",
    "    \"firstName\": \"John\",\n",
    "    \"lastName\": \"Smith\",\n",
    "    \"age\": 25\n",
    "    }\n",
    "```\n",
    "#### math symbols start with $ \n",
    "\n",
    "- $\\beta$: \\beta\n",
    "- $\\alpha$: \\alpha \n",
    "- $\\lambda$: \\lambda\n",
    "- $\\pi$: \\pi\n",
    "- Bar: \\bar{A} $\\bar{A}$\n",
    "- Hat: \\hat{Y} $\\hat{Y}$ \n",
    "- $\\sqrt{}$: \\sqrt{}\n",
    "- Subscript: _{}     $H_{2}O$\n",
    "- Superscript: ^{}  $X^2$\n",
    "- $\\sum$: \\sum\n",
    "- $\\int$: \\int\n",
    "- $\\infty$: \\infty\n",
    "- $\\int _{\\infty} ^{\\infty}$: \\int _{\\infty} ^{\\infty}\n",
    "\n",
    "- $ \\sum \\limits _j ^p$: \\sum \\limits _j ^p\n",
    "- $ \\sum _j ^p$: \\sum _j ^p\n",
    "- $\\frac {A} {B} $: \\frac\n",
    "- $\\cup$: \\cup\n",
    "- $\\cap$: \\cap\n",
    "\n",
    "[symbol links](https://oeis.org/wiki/List_of_LaTeX_mathematical_symbols)\n",
    "\n",
    "$this_{is}^{inline}$\n",
    "\n",
    "\n",
    "$X^{2}$\n",
    "\n",
    "$ \\hat{Y}=\\hat{\\beta}_0 + \\sum \\limits _{j=1} ^p X_{j}\\hat{\\beta}_{j} $\n",
    "\n",
    "- Sqrt: \\sqrt\n",
    "\n",
    "    > $ c = \\sqrt{a^2 + b^2}$\n",
    "\n",
    "- Bar: \\bar\n",
    "    > $ P(A) + P(\\bar{A}) = 1 $"
   ]
  },
  {
   "attachments": {},
   "cell_type": "markdown",
   "metadata": {},
   "source": [
    "$c=\\sqrt{a^2 + b^2}$"
   ]
  },
  {
   "attachments": {},
   "cell_type": "markdown",
   "metadata": {},
   "source": [
    "$ f(x) = \\int_{-\\infty}^{\\infty} e^{-x^2} dx $\n",
    "\n",
    "$P(A|B) = \\frac{P(B|A) P(A)}{P(B)}$"
   ]
  },
  {
   "cell_type": "code",
   "execution_count": null,
   "metadata": {},
   "outputs": [],
   "source": []
  }
 ],
 "metadata": {
  "kernelspec": {
   "display_name": "Python 3",
   "language": "python",
   "name": "python3"
  },
  "language_info": {
   "codemirror_mode": {
    "name": "ipython",
    "version": 3
   },
   "file_extension": ".py",
   "mimetype": "text/x-python",
   "name": "python",
   "nbconvert_exporter": "python",
   "pygments_lexer": "ipython3",
   "version": "3.8.5"
  },
  "orig_nbformat": 4,
  "vscode": {
   "interpreter": {
    "hash": "46c336091dfe1e2d407c992226aa1abfdf7e3bf29abda0cf50c942fafbd234f7"
   }
  }
 },
 "nbformat": 4,
 "nbformat_minor": 2
}
